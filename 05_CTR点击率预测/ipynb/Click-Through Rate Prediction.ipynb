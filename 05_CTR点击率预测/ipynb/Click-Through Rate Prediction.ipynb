{
 "cells": [
  {
   "cell_type": "markdown",
   "metadata": {},
   "source": [
    "系统环境：\n",
    "- 操作系统：Windows 8.1 64-bit\n",
    "- CPU：Intel i7-4200HQ 3.60GHz\n",
    "- RAM：8GB\n",
    "- GPU: GeForce GTX 970M (CUDA 10.1)"
   ]
  },
  {
   "cell_type": "markdown",
   "metadata": {},
   "source": [
    "库环境："
   ]
  },
  {
   "cell_type": "code",
   "execution_count": 155,
   "metadata": {},
   "outputs": [
    {
     "name": "stdout",
     "output_type": "stream",
     "text": [
      "pandas version： 0.23.4\n",
      "matplotlib version： 2.2.3\n",
      "seaborn version： 0.9.0\n",
      "sklearn version： 0.22.2.post1\n"
     ]
    }
   ],
   "source": [
    "import pandas as pd\n",
    "import seaborn as sns\n",
    "import matplotlib.pyplot as plt\n",
    "import matplotlib\n",
    "import sklearn\n",
    "\n",
    "\n",
    "print('pandas version：',pd.__version__)\n",
    "print('matplotlib version：',matplotlib.__version__)\n",
    "print('seaborn version：',sns.__version__)\n",
    "print('sklearn version：',sklearn.__version__)"
   ]
  },
  {
   "cell_type": "markdown",
   "metadata": {},
   "source": [
    "# 读取数据\n",
    "- 数据下载地址：[kaggle_Click-Through Rate Prediction](https://www.kaggle.com/c/avazu-ctr-prediction)\n",
    "- 由于数据量大，笔记本内存有限，无法读取和运算如此大量的数据。因此使用dump_data.py进行采样，选取10000条数据进行训练，10000条数据进行测试"
   ]
  },
  {
   "cell_type": "markdown",
   "metadata": {},
   "source": [
    "## File descriptions：\n",
    "- train - Training set. 10 days of click-through data, ordered chronologically. Non-clicks and clicks are subsampled according to different strategies.\n",
    "- test - Testing set. 1 day of ads to for testing your model predictions. \n",
    "\n",
    "## Data fields：\n",
    "- id: ad identifier\n",
    "- click: 0/1 for non-click/click\n",
    "- hour: format is YYMMDDHH, so 14091123 means 23:00 on Sept. 11, 2014 UTC.\n",
    "- C1 -- anonymized categorical variable\n",
    "- banner_pos\n",
    "- site_id\n",
    "- site_domain\n",
    "- site_category\n",
    "- app_id\n",
    "- app_domain\n",
    "- app_category\n",
    "- device_id\n",
    "- device_ip\n",
    "- device_model\n",
    "- device_type\n",
    "- device_conn_type\n",
    "- C14-C21 -- anonymized categorical variables"
   ]
  },
  {
   "cell_type": "code",
   "execution_count": 2,
   "metadata": {},
   "outputs": [],
   "source": [
    "data_train = pd.read_csv(r'./dataset/ctr/train_sample_ctr_8450.csv')\n",
    "data_test = pd.read_csv(r'.\\dataset\\ctr\\test_sample_ctr_155.csv')"
   ]
  },
  {
   "cell_type": "code",
   "execution_count": 3,
   "metadata": {},
   "outputs": [
    {
     "name": "stdout",
     "output_type": "stream",
     "text": [
      "<class 'pandas.core.frame.DataFrame'>\n",
      "RangeIndex: 8450 entries, 0 to 8449\n",
      "Data columns (total 24 columns):\n",
      "id                  8450 non-null uint64\n",
      "click               8450 non-null int64\n",
      "hour                8450 non-null int64\n",
      "C1                  8450 non-null int64\n",
      "banner_pos          8450 non-null int64\n",
      "site_id             8450 non-null object\n",
      "site_domain         8450 non-null object\n",
      "site_category       8450 non-null object\n",
      "app_id              8450 non-null object\n",
      "app_domain          8450 non-null object\n",
      "app_category        8450 non-null object\n",
      "device_id           8450 non-null object\n",
      "device_ip           8450 non-null object\n",
      "device_model        8450 non-null object\n",
      "device_type         8450 non-null int64\n",
      "device_conn_type    8450 non-null int64\n",
      "C14                 8450 non-null int64\n",
      "C15                 8450 non-null int64\n",
      "C16                 8450 non-null int64\n",
      "C17                 8450 non-null int64\n",
      "C18                 8450 non-null int64\n",
      "C19                 8450 non-null int64\n",
      "C20                 8450 non-null int64\n",
      "C21                 8450 non-null int64\n",
      "dtypes: int64(14), object(9), uint64(1)\n",
      "memory usage: 1.5+ MB\n",
      "<class 'pandas.core.frame.DataFrame'>\n",
      "RangeIndex: 155 entries, 0 to 154\n",
      "Data columns (total 23 columns):\n",
      "id                  155 non-null uint64\n",
      "hour                155 non-null int64\n",
      "C1                  155 non-null int64\n",
      "banner_pos          155 non-null int64\n",
      "site_id             155 non-null object\n",
      "site_domain         155 non-null object\n",
      "site_category       155 non-null object\n",
      "app_id              155 non-null object\n",
      "app_domain          155 non-null object\n",
      "app_category        155 non-null object\n",
      "device_id           155 non-null object\n",
      "device_ip           155 non-null object\n",
      "device_model        155 non-null object\n",
      "device_type         155 non-null int64\n",
      "device_conn_type    155 non-null int64\n",
      "C14                 155 non-null int64\n",
      "C15                 155 non-null int64\n",
      "C16                 155 non-null int64\n",
      "C17                 155 non-null int64\n",
      "C18                 155 non-null int64\n",
      "C19                 155 non-null int64\n",
      "C20                 155 non-null int64\n",
      "C21                 155 non-null int64\n",
      "dtypes: int64(13), object(9), uint64(1)\n",
      "memory usage: 27.9+ KB\n"
     ]
    }
   ],
   "source": [
    "data_train.info()\n",
    "data_test.info()"
   ]
  },
  {
   "cell_type": "code",
   "execution_count": 4,
   "metadata": {},
   "outputs": [
    {
     "data": {
      "text/html": [
       "<div>\n",
       "<style scoped>\n",
       "    .dataframe tbody tr th:only-of-type {\n",
       "        vertical-align: middle;\n",
       "    }\n",
       "\n",
       "    .dataframe tbody tr th {\n",
       "        vertical-align: top;\n",
       "    }\n",
       "\n",
       "    .dataframe thead th {\n",
       "        text-align: right;\n",
       "    }\n",
       "</style>\n",
       "<table border=\"1\" class=\"dataframe\">\n",
       "  <thead>\n",
       "    <tr style=\"text-align: right;\">\n",
       "      <th></th>\n",
       "      <th>id</th>\n",
       "      <th>click</th>\n",
       "      <th>hour</th>\n",
       "      <th>C1</th>\n",
       "      <th>banner_pos</th>\n",
       "      <th>device_type</th>\n",
       "      <th>device_conn_type</th>\n",
       "      <th>C14</th>\n",
       "      <th>C15</th>\n",
       "      <th>C16</th>\n",
       "      <th>C17</th>\n",
       "      <th>C18</th>\n",
       "      <th>C19</th>\n",
       "      <th>C20</th>\n",
       "      <th>C21</th>\n",
       "    </tr>\n",
       "  </thead>\n",
       "  <tbody>\n",
       "    <tr>\n",
       "      <th>count</th>\n",
       "      <td>8.450000e+03</td>\n",
       "      <td>8450.000000</td>\n",
       "      <td>8.450000e+03</td>\n",
       "      <td>8450.000000</td>\n",
       "      <td>8450.000000</td>\n",
       "      <td>8450.000000</td>\n",
       "      <td>8450.000000</td>\n",
       "      <td>8450.000000</td>\n",
       "      <td>8450.000000</td>\n",
       "      <td>8450.000000</td>\n",
       "      <td>8450.000000</td>\n",
       "      <td>8450.000000</td>\n",
       "      <td>8450.000000</td>\n",
       "      <td>8450.000000</td>\n",
       "      <td>8450.000000</td>\n",
       "    </tr>\n",
       "    <tr>\n",
       "      <th>mean</th>\n",
       "      <td>9.179895e+18</td>\n",
       "      <td>0.177751</td>\n",
       "      <td>1.410255e+07</td>\n",
       "      <td>1004.959763</td>\n",
       "      <td>0.287219</td>\n",
       "      <td>1.010178</td>\n",
       "      <td>0.346982</td>\n",
       "      <td>18833.676805</td>\n",
       "      <td>319.027219</td>\n",
       "      <td>61.371124</td>\n",
       "      <td>2110.164734</td>\n",
       "      <td>1.446154</td>\n",
       "      <td>222.525680</td>\n",
       "      <td>52899.882604</td>\n",
       "      <td>83.929231</td>\n",
       "    </tr>\n",
       "    <tr>\n",
       "      <th>std</th>\n",
       "      <td>5.358954e+18</td>\n",
       "      <td>0.382326</td>\n",
       "      <td>2.981426e+02</td>\n",
       "      <td>1.085978</td>\n",
       "      <td>0.510966</td>\n",
       "      <td>0.514568</td>\n",
       "      <td>0.869565</td>\n",
       "      <td>5012.525716</td>\n",
       "      <td>23.672810</td>\n",
       "      <td>52.690929</td>\n",
       "      <td>615.540273</td>\n",
       "      <td>1.327442</td>\n",
       "      <td>343.077724</td>\n",
       "      <td>49979.530350</td>\n",
       "      <td>70.765039</td>\n",
       "    </tr>\n",
       "    <tr>\n",
       "      <th>min</th>\n",
       "      <td>1.275883e+15</td>\n",
       "      <td>0.000000</td>\n",
       "      <td>1.410210e+07</td>\n",
       "      <td>1001.000000</td>\n",
       "      <td>0.000000</td>\n",
       "      <td>0.000000</td>\n",
       "      <td>0.000000</td>\n",
       "      <td>375.000000</td>\n",
       "      <td>216.000000</td>\n",
       "      <td>36.000000</td>\n",
       "      <td>112.000000</td>\n",
       "      <td>0.000000</td>\n",
       "      <td>33.000000</td>\n",
       "      <td>-1.000000</td>\n",
       "      <td>13.000000</td>\n",
       "    </tr>\n",
       "    <tr>\n",
       "      <th>25%</th>\n",
       "      <td>4.536772e+18</td>\n",
       "      <td>0.000000</td>\n",
       "      <td>1.410230e+07</td>\n",
       "      <td>1005.000000</td>\n",
       "      <td>0.000000</td>\n",
       "      <td>1.000000</td>\n",
       "      <td>0.000000</td>\n",
       "      <td>16920.000000</td>\n",
       "      <td>320.000000</td>\n",
       "      <td>50.000000</td>\n",
       "      <td>1863.000000</td>\n",
       "      <td>0.000000</td>\n",
       "      <td>35.000000</td>\n",
       "      <td>-1.000000</td>\n",
       "      <td>23.000000</td>\n",
       "    </tr>\n",
       "    <tr>\n",
       "      <th>50%</th>\n",
       "      <td>9.077211e+18</td>\n",
       "      <td>0.000000</td>\n",
       "      <td>1.410252e+07</td>\n",
       "      <td>1005.000000</td>\n",
       "      <td>0.000000</td>\n",
       "      <td>1.000000</td>\n",
       "      <td>0.000000</td>\n",
       "      <td>20352.000000</td>\n",
       "      <td>320.000000</td>\n",
       "      <td>50.000000</td>\n",
       "      <td>2325.000000</td>\n",
       "      <td>2.000000</td>\n",
       "      <td>39.000000</td>\n",
       "      <td>100035.500000</td>\n",
       "      <td>61.000000</td>\n",
       "    </tr>\n",
       "    <tr>\n",
       "      <th>75%</th>\n",
       "      <td>1.377866e+19</td>\n",
       "      <td>0.000000</td>\n",
       "      <td>1.410281e+07</td>\n",
       "      <td>1005.000000</td>\n",
       "      <td>1.000000</td>\n",
       "      <td>1.000000</td>\n",
       "      <td>0.000000</td>\n",
       "      <td>21894.000000</td>\n",
       "      <td>320.000000</td>\n",
       "      <td>50.000000</td>\n",
       "      <td>2526.000000</td>\n",
       "      <td>3.000000</td>\n",
       "      <td>171.000000</td>\n",
       "      <td>100103.000000</td>\n",
       "      <td>110.000000</td>\n",
       "    </tr>\n",
       "    <tr>\n",
       "      <th>max</th>\n",
       "      <td>1.844664e+19</td>\n",
       "      <td>1.000000</td>\n",
       "      <td>1.410302e+07</td>\n",
       "      <td>1012.000000</td>\n",
       "      <td>7.000000</td>\n",
       "      <td>5.000000</td>\n",
       "      <td>5.000000</td>\n",
       "      <td>24041.000000</td>\n",
       "      <td>768.000000</td>\n",
       "      <td>1024.000000</td>\n",
       "      <td>2756.000000</td>\n",
       "      <td>3.000000</td>\n",
       "      <td>1839.000000</td>\n",
       "      <td>100248.000000</td>\n",
       "      <td>253.000000</td>\n",
       "    </tr>\n",
       "  </tbody>\n",
       "</table>\n",
       "</div>"
      ],
      "text/plain": [
       "                 id        click          hour           C1   banner_pos  \\\n",
       "count  8.450000e+03  8450.000000  8.450000e+03  8450.000000  8450.000000   \n",
       "mean   9.179895e+18     0.177751  1.410255e+07  1004.959763     0.287219   \n",
       "std    5.358954e+18     0.382326  2.981426e+02     1.085978     0.510966   \n",
       "min    1.275883e+15     0.000000  1.410210e+07  1001.000000     0.000000   \n",
       "25%    4.536772e+18     0.000000  1.410230e+07  1005.000000     0.000000   \n",
       "50%    9.077211e+18     0.000000  1.410252e+07  1005.000000     0.000000   \n",
       "75%    1.377866e+19     0.000000  1.410281e+07  1005.000000     1.000000   \n",
       "max    1.844664e+19     1.000000  1.410302e+07  1012.000000     7.000000   \n",
       "\n",
       "       device_type  device_conn_type           C14          C15          C16  \\\n",
       "count  8450.000000       8450.000000   8450.000000  8450.000000  8450.000000   \n",
       "mean      1.010178          0.346982  18833.676805   319.027219    61.371124   \n",
       "std       0.514568          0.869565   5012.525716    23.672810    52.690929   \n",
       "min       0.000000          0.000000    375.000000   216.000000    36.000000   \n",
       "25%       1.000000          0.000000  16920.000000   320.000000    50.000000   \n",
       "50%       1.000000          0.000000  20352.000000   320.000000    50.000000   \n",
       "75%       1.000000          0.000000  21894.000000   320.000000    50.000000   \n",
       "max       5.000000          5.000000  24041.000000   768.000000  1024.000000   \n",
       "\n",
       "               C17          C18          C19            C20          C21  \n",
       "count  8450.000000  8450.000000  8450.000000    8450.000000  8450.000000  \n",
       "mean   2110.164734     1.446154   222.525680   52899.882604    83.929231  \n",
       "std     615.540273     1.327442   343.077724   49979.530350    70.765039  \n",
       "min     112.000000     0.000000    33.000000      -1.000000    13.000000  \n",
       "25%    1863.000000     0.000000    35.000000      -1.000000    23.000000  \n",
       "50%    2325.000000     2.000000    39.000000  100035.500000    61.000000  \n",
       "75%    2526.000000     3.000000   171.000000  100103.000000   110.000000  \n",
       "max    2756.000000     3.000000  1839.000000  100248.000000   253.000000  "
      ]
     },
     "execution_count": 4,
     "metadata": {},
     "output_type": "execute_result"
    }
   ],
   "source": [
    "data_train.describe()"
   ]
  },
  {
   "cell_type": "code",
   "execution_count": 5,
   "metadata": {},
   "outputs": [
    {
     "data": {
      "text/html": [
       "<div>\n",
       "<style scoped>\n",
       "    .dataframe tbody tr th:only-of-type {\n",
       "        vertical-align: middle;\n",
       "    }\n",
       "\n",
       "    .dataframe tbody tr th {\n",
       "        vertical-align: top;\n",
       "    }\n",
       "\n",
       "    .dataframe thead th {\n",
       "        text-align: right;\n",
       "    }\n",
       "</style>\n",
       "<table border=\"1\" class=\"dataframe\">\n",
       "  <thead>\n",
       "    <tr style=\"text-align: right;\">\n",
       "      <th></th>\n",
       "      <th>id</th>\n",
       "      <th>hour</th>\n",
       "      <th>C1</th>\n",
       "      <th>banner_pos</th>\n",
       "      <th>device_type</th>\n",
       "      <th>device_conn_type</th>\n",
       "      <th>C14</th>\n",
       "      <th>C15</th>\n",
       "      <th>C16</th>\n",
       "      <th>C17</th>\n",
       "      <th>C18</th>\n",
       "      <th>C19</th>\n",
       "      <th>C20</th>\n",
       "      <th>C21</th>\n",
       "    </tr>\n",
       "  </thead>\n",
       "  <tbody>\n",
       "    <tr>\n",
       "      <th>count</th>\n",
       "      <td>1.550000e+02</td>\n",
       "      <td>1.550000e+02</td>\n",
       "      <td>155.000000</td>\n",
       "      <td>155.000000</td>\n",
       "      <td>155.000000</td>\n",
       "      <td>155.000000</td>\n",
       "      <td>155.000000</td>\n",
       "      <td>155.000000</td>\n",
       "      <td>155.000000</td>\n",
       "      <td>155.000000</td>\n",
       "      <td>155.000000</td>\n",
       "      <td>155.000000</td>\n",
       "      <td>155.000000</td>\n",
       "      <td>155.000000</td>\n",
       "    </tr>\n",
       "    <tr>\n",
       "      <th>mean</th>\n",
       "      <td>8.928224e+18</td>\n",
       "      <td>1.410311e+07</td>\n",
       "      <td>1005.051613</td>\n",
       "      <td>0.187097</td>\n",
       "      <td>1.051613</td>\n",
       "      <td>0.380645</td>\n",
       "      <td>21478.096774</td>\n",
       "      <td>318.941935</td>\n",
       "      <td>53.780645</td>\n",
       "      <td>2437.064516</td>\n",
       "      <td>1.309677</td>\n",
       "      <td>153.864516</td>\n",
       "      <td>56847.980645</td>\n",
       "      <td>92.683871</td>\n",
       "    </tr>\n",
       "    <tr>\n",
       "      <th>std</th>\n",
       "      <td>5.552391e+18</td>\n",
       "      <td>5.682679e+00</td>\n",
       "      <td>0.938315</td>\n",
       "      <td>0.391253</td>\n",
       "      <td>0.507010</td>\n",
       "      <td>0.913613</td>\n",
       "      <td>4764.198700</td>\n",
       "      <td>8.769219</td>\n",
       "      <td>27.678645</td>\n",
       "      <td>607.895654</td>\n",
       "      <td>1.331768</td>\n",
       "      <td>215.958632</td>\n",
       "      <td>49765.040950</td>\n",
       "      <td>87.115519</td>\n",
       "    </tr>\n",
       "    <tr>\n",
       "      <th>min</th>\n",
       "      <td>7.968314e+16</td>\n",
       "      <td>1.410310e+07</td>\n",
       "      <td>1002.000000</td>\n",
       "      <td>0.000000</td>\n",
       "      <td>0.000000</td>\n",
       "      <td>0.000000</td>\n",
       "      <td>4687.000000</td>\n",
       "      <td>216.000000</td>\n",
       "      <td>36.000000</td>\n",
       "      <td>423.000000</td>\n",
       "      <td>0.000000</td>\n",
       "      <td>33.000000</td>\n",
       "      <td>-1.000000</td>\n",
       "      <td>13.000000</td>\n",
       "    </tr>\n",
       "    <tr>\n",
       "      <th>25%</th>\n",
       "      <td>4.190929e+18</td>\n",
       "      <td>1.410311e+07</td>\n",
       "      <td>1005.000000</td>\n",
       "      <td>0.000000</td>\n",
       "      <td>1.000000</td>\n",
       "      <td>0.000000</td>\n",
       "      <td>22104.000000</td>\n",
       "      <td>320.000000</td>\n",
       "      <td>50.000000</td>\n",
       "      <td>2545.000000</td>\n",
       "      <td>0.000000</td>\n",
       "      <td>35.000000</td>\n",
       "      <td>-1.000000</td>\n",
       "      <td>23.000000</td>\n",
       "    </tr>\n",
       "    <tr>\n",
       "      <th>50%</th>\n",
       "      <td>9.154648e+18</td>\n",
       "      <td>1.410311e+07</td>\n",
       "      <td>1005.000000</td>\n",
       "      <td>0.000000</td>\n",
       "      <td>1.000000</td>\n",
       "      <td>0.000000</td>\n",
       "      <td>23141.000000</td>\n",
       "      <td>320.000000</td>\n",
       "      <td>50.000000</td>\n",
       "      <td>2664.000000</td>\n",
       "      <td>1.000000</td>\n",
       "      <td>39.000000</td>\n",
       "      <td>100077.000000</td>\n",
       "      <td>51.000000</td>\n",
       "    </tr>\n",
       "    <tr>\n",
       "      <th>75%</th>\n",
       "      <td>1.394021e+19</td>\n",
       "      <td>1.410312e+07</td>\n",
       "      <td>1005.000000</td>\n",
       "      <td>0.000000</td>\n",
       "      <td>1.000000</td>\n",
       "      <td>0.000000</td>\n",
       "      <td>24095.500000</td>\n",
       "      <td>320.000000</td>\n",
       "      <td>50.000000</td>\n",
       "      <td>2761.000000</td>\n",
       "      <td>3.000000</td>\n",
       "      <td>175.000000</td>\n",
       "      <td>100148.000000</td>\n",
       "      <td>221.000000</td>\n",
       "    </tr>\n",
       "    <tr>\n",
       "      <th>max</th>\n",
       "      <td>1.835151e+19</td>\n",
       "      <td>1.410312e+07</td>\n",
       "      <td>1010.000000</td>\n",
       "      <td>1.000000</td>\n",
       "      <td>4.000000</td>\n",
       "      <td>3.000000</td>\n",
       "      <td>24320.000000</td>\n",
       "      <td>320.000000</td>\n",
       "      <td>250.000000</td>\n",
       "      <td>2790.000000</td>\n",
       "      <td>3.000000</td>\n",
       "      <td>1327.000000</td>\n",
       "      <td>100233.000000</td>\n",
       "      <td>251.000000</td>\n",
       "    </tr>\n",
       "  </tbody>\n",
       "</table>\n",
       "</div>"
      ],
      "text/plain": [
       "                 id          hour           C1  banner_pos  device_type  \\\n",
       "count  1.550000e+02  1.550000e+02   155.000000  155.000000   155.000000   \n",
       "mean   8.928224e+18  1.410311e+07  1005.051613    0.187097     1.051613   \n",
       "std    5.552391e+18  5.682679e+00     0.938315    0.391253     0.507010   \n",
       "min    7.968314e+16  1.410310e+07  1002.000000    0.000000     0.000000   \n",
       "25%    4.190929e+18  1.410311e+07  1005.000000    0.000000     1.000000   \n",
       "50%    9.154648e+18  1.410311e+07  1005.000000    0.000000     1.000000   \n",
       "75%    1.394021e+19  1.410312e+07  1005.000000    0.000000     1.000000   \n",
       "max    1.835151e+19  1.410312e+07  1010.000000    1.000000     4.000000   \n",
       "\n",
       "       device_conn_type           C14         C15         C16          C17  \\\n",
       "count        155.000000    155.000000  155.000000  155.000000   155.000000   \n",
       "mean           0.380645  21478.096774  318.941935   53.780645  2437.064516   \n",
       "std            0.913613   4764.198700    8.769219   27.678645   607.895654   \n",
       "min            0.000000   4687.000000  216.000000   36.000000   423.000000   \n",
       "25%            0.000000  22104.000000  320.000000   50.000000  2545.000000   \n",
       "50%            0.000000  23141.000000  320.000000   50.000000  2664.000000   \n",
       "75%            0.000000  24095.500000  320.000000   50.000000  2761.000000   \n",
       "max            3.000000  24320.000000  320.000000  250.000000  2790.000000   \n",
       "\n",
       "              C18          C19            C20         C21  \n",
       "count  155.000000   155.000000     155.000000  155.000000  \n",
       "mean     1.309677   153.864516   56847.980645   92.683871  \n",
       "std      1.331768   215.958632   49765.040950   87.115519  \n",
       "min      0.000000    33.000000      -1.000000   13.000000  \n",
       "25%      0.000000    35.000000      -1.000000   23.000000  \n",
       "50%      1.000000    39.000000  100077.000000   51.000000  \n",
       "75%      3.000000   175.000000  100148.000000  221.000000  \n",
       "max      3.000000  1327.000000  100233.000000  251.000000  "
      ]
     },
     "execution_count": 5,
     "metadata": {},
     "output_type": "execute_result"
    }
   ],
   "source": [
    "data_test.describe()"
   ]
  },
  {
   "cell_type": "markdown",
   "metadata": {},
   "source": [
    "观察上述数据，可以发现数据整体不存在缺失值，数据类型为int或object, 需要对object类型数据进行向量化/离散化。对于ID这个特征，可以看到其方差极大，说明是一个连续的数据，结合经验，可以直接删除该特征"
   ]
  },
  {
   "cell_type": "markdown",
   "metadata": {},
   "source": [
    "# 数据预处理\n",
    "- 删除id特征"
   ]
  },
  {
   "cell_type": "code",
   "execution_count": 6,
   "metadata": {},
   "outputs": [],
   "source": [
    "data_train = data_train.drop('id',axis=1)\n",
    "data_test = data_test.drop('id',axis=1)"
   ]
  },
  {
   "cell_type": "markdown",
   "metadata": {},
   "source": [
    "- 观察object类型特征并进行向量化/离散化处理"
   ]
  },
  {
   "cell_type": "code",
   "execution_count": 7,
   "metadata": {},
   "outputs": [],
   "source": [
    "df_object = data_train.filter(regex='site_id|site_domain|site_category|app_id|app_domain|app_category|device_id|device_ip|device_model')"
   ]
  },
  {
   "cell_type": "code",
   "execution_count": 23,
   "metadata": {},
   "outputs": [
    {
     "name": "stdout",
     "output_type": "stream",
     "text": [
      "site_id: ['6399eda6' '968765cd' 'f028772b' 'ecad2386' '7801e8d9' '07d7df22'\n",
      " 'a99f214a' 'ffd71479' '76dc4769'] \n",
      " num: 9\n",
      "site_domain: ['8fda644b' '25d4cfcd' 'f028772b' 'ecad2386' '7801e8d9' '07d7df22'\n",
      " 'a99f214a' '34674ab0' '6569eeb3'] \n",
      " num: 9\n",
      "site_category: ['5b4d2eda' '16a36ef3' 'f028772b' 'ecad2386' '7801e8d9' '07d7df22'\n",
      " 'a99f214a' 'cdc5cc94' '00b1f3a7'] \n",
      " num: 9\n",
      "app_id: ['d8bb8687' '98e6755b' '3e814130' 'ecad2386' '7801e8d9' '07d7df22'\n",
      " 'a99f214a' '799d2fa5' 'be6db1d7'] \n",
      " num: 9\n",
      "app_domain: ['1fbe01fe' 'f3845767' '28905ebd' 'ecad2386' '7801e8d9' '07d7df22'\n",
      " 'a99f214a' '0a945a46' '8a4875bd'] \n",
      " num: 9\n",
      "app_category: ['83a0ad1a' '5c9ae867' 'f028772b' 'ecad2386' '7801e8d9' '07d7df22'\n",
      " 'a99f214a' '01bd946f' 'c48dce72'] \n",
      " num: 9\n",
      "device_id: ['85f751fd' 'c4e18dd6' '50e219e0' 'e2a1ca37' '2347f47a' '8ded1f7a'\n",
      " '324d6925' '51b00dde' 'dc70b0f9'] \n",
      " num: 9\n",
      "device_ip: ['1fbe01fe' 'f3845767' '28905ebd' 'ecad2386' '7801e8d9' '07d7df22'\n",
      " 'a99f214a' '2d905ba5' 'c6263d8a'] \n",
      " num: 9\n",
      "device_model: ['85f751fd' 'c4e18dd6' '50e219e0' '685d1c4c' '2347f47a' '8ded1f7a'\n",
      " 'a99f214a' 'a0ec533d' '88fbaa46'] \n",
      " num: 9\n"
     ]
    }
   ],
   "source": [
    "for itm, column in enumerate(df_object.columns):\n",
    "    category = df_object.iloc[itm].unique()\n",
    "    num = len(category)\n",
    "    print('{}: {} \\n num: {}'.format(column, category, num))"
   ]
  },
  {
   "cell_type": "markdown",
   "metadata": {},
   "source": [
    "## 特征离散/因子化"
   ]
  },
  {
   "cell_type": "code",
   "execution_count": 40,
   "metadata": {},
   "outputs": [
    {
     "data": {
      "text/plain": [
       "Index(['site_id_021cd138', 'site_id_02296256', 'site_id_023f3644',\n",
       "       'site_id_0273c5ad', 'site_id_02d5151c', 'site_id_030440fe',\n",
       "       'site_id_05c65e53', 'site_id_06a0ac14', 'site_id_070ca277',\n",
       "       'site_id_079325ff',\n",
       "       ...\n",
       "       'device_model_feacaaee', 'device_model_feb70d53',\n",
       "       'device_model_ff065cf0', 'device_model_ff0f1aca',\n",
       "       'device_model_ff16d623', 'device_model_ff2a3543',\n",
       "       'device_model_ff607a1a', 'device_model_ff91ea03',\n",
       "       'device_model_ffc70ef9', 'device_model_ffe69079'],\n",
       "      dtype='object', length=11919)"
      ]
     },
     "execution_count": 40,
     "metadata": {},
     "output_type": "execute_result"
    }
   ],
   "source": [
    "site_id = pd.get_dummies(data_train['site_id'], prefix= 'site_id')\n",
    "site_domain = pd.get_dummies(data_train['site_domain'], prefix= 'site_domain')\n",
    "site_category = pd.get_dummies(data_train['site_category'], prefix= 'site_category')\n",
    "app_id = pd.get_dummies(data_train['app_id'], prefix= 'app_id')\n",
    "app_domain = pd.get_dummies(data_train['app_domain'], prefix= 'app_domain')\n",
    "app_category = pd.get_dummies(data_train['app_category'], prefix= 'app_category')\n",
    "device_id = pd.get_dummies(data_train['device_id'], prefix= 'device_id')\n",
    "device_ip = pd.get_dummies(data_train['device_ip'], prefix= 'device_ip')\n",
    "device_model = pd.get_dummies(data_train['device_model'], prefix= 'device_model')\n",
    "\n",
    "df = pd.concat([site_id, site_domain, site_category, \n",
    "                app_id, app_domain, app_category, \n",
    "                device_id, device_ip, device_model], axis=1)\n",
    "df.columns"
   ]
  },
  {
   "cell_type": "markdown",
   "metadata": {},
   "source": [
    "# 训练\n",
    "## 1. 少特征训练\n",
    "- 只选择int类型数据进行训练"
   ]
  },
  {
   "cell_type": "code",
   "execution_count": 104,
   "metadata": {},
   "outputs": [],
   "source": [
    "def train(train_np):\n",
    "    from sklearn import linear_model\n",
    "    from sklearn.metrics import accuracy_score\n",
    "    from sklearn.model_selection import train_test_split\n",
    "    import time\n",
    "    # y即Survival结果\n",
    "    y = train_np[:, 0]\n",
    "    # X即特征属性值\n",
    "    X = train_np[:, 1:]\n",
    "\n",
    "\n",
    "    X_train, X_test, y_train, y_test = train_test_split(X, y, test_size=0.33, random_state=42)\n",
    "\n",
    "    clf = linear_model.LogisticRegression(C=1,penalty=\"l2\")\n",
    "    t1 = time.time()\n",
    "    clf.fit(X_train,y_train)\n",
    "    t2 = time.time()\n",
    "    y_pred = clf.predict(X_test)\n",
    "#     print('accuracy:{:.3f}%, tims:{:.3f}s'.format(accuracy_score(y_test, y_pred)*100,(t2-t1)))\n",
    "    return accuracy_score(y_test, y_pred), (t2-t1)"
   ]
  },
  {
   "cell_type": "code",
   "execution_count": 118,
   "metadata": {},
   "outputs": [],
   "source": [
    "def train_cv(train_np):\n",
    "    from sklearn import linear_model\n",
    "    from sklearn.metrics import accuracy_score\n",
    "    from sklearn.model_selection import cross_val_score\n",
    "    import time\n",
    "    # y即Survival结果\n",
    "    y = train_np[:, 0]\n",
    "    # X即特征属性值\n",
    "    X = train_np[:, 1:]\n",
    "\n",
    "    clf = linear_model.LogisticRegression(C=1,penalty=\"l2\")\n",
    "    t1 = time.time()\n",
    "    scores = cross_val_score(clf, X, y, cv=5)\n",
    "    t2 = time.time()\n",
    "    return np.mean(scores), (t2-t1)/5"
   ]
  },
  {
   "cell_type": "code",
   "execution_count": 94,
   "metadata": {},
   "outputs": [
    {
     "data": {
      "image/png": "[encoded data removed]",
      "text/plain": [
       "<Figure size 1152x648 with 2 Axes>"
      ]
     },
     "metadata": {
      "needs_background": "light"
     },
     "output_type": "display_data"
    }
   ],
   "source": [
    "import time\n",
    "import matplotlib.pyplot as plt \n",
    "import seaborn as sns\n",
    "plt.figure(figsize=(16,9))\n",
    "sns.heatmap(data_train[[\"click\",\"hour\",\"banner_pos\",\"C1\",\"C14\",\"C15\",\"C16\",\n",
    "                        \"C17\",\"C18\",\"C19\",\"C20\",\"C21\",\"device_type\",\"device_conn_type\"]].corr(),\n",
    "            annot=True, fmt = \".2f\", cmap = \"coolwarm\") \n",
    "plt.show()"
   ]
  },
  {
   "cell_type": "markdown",
   "metadata": {},
   "source": [
    "通过上图可以看出单一数值型的特征与标签的线性关系并不是很大，下面看一下训练的效果"
   ]
  },
  {
   "cell_type": "code",
   "execution_count": 124,
   "metadata": {},
   "outputs": [
    {
     "name": "stdout",
     "output_type": "stream",
     "text": [
      "num of feature: 14\n",
      "accuracy:82.225%, tims:0.035s\n"
     ]
    }
   ],
   "source": [
    "few_feature_df = data_train.filter(regex='click|hour|C.*|banner_pos|device_type|device_conn_type')\n",
    "print('num of feature:',len(few_feature_df.columns))\n",
    "few_feature_np = few_feature_df.values\n",
    "acc, t = train_cv(few_feature_np)\n",
    "print('accuracy:{:.3f}%, tims:{:.3f}s'.format(acc*100,t))"
   ]
  },
  {
   "cell_type": "markdown",
   "metadata": {},
   "source": [
    "## 全特征训练\n",
    "- 使用数值类特征以及特征离散化过后的特征（共计：11931个）"
   ]
  },
  {
   "cell_type": "code",
   "execution_count": 125,
   "metadata": {},
   "outputs": [
    {
     "name": "stdout",
     "output_type": "stream",
     "text": [
      "num of feature: 11933\n",
      "accuracy:82.225%, tims:7.074s\n"
     ]
    }
   ],
   "source": [
    "all_feature_df = pd.concat([few_feature_df, df], axis=1)\n",
    "print('num of feature:',len(all_feature_df.columns))\n",
    "all_feature_np = all_feature_df.values\n",
    "acc, t = train_cv(all_feature_np)\n",
    "print('accuracy:{:.3f}%, tims:{:.3f}s'.format(acc*100,t))"
   ]
  },
  {
   "cell_type": "markdown",
   "metadata": {},
   "source": [
    "选取部分特征和全特征进行训练最终的结果一直，但时间消耗相差数倍。因此我们应当进行特征选择\n",
    "## 选择部分特征\n",
    "- site_domain, site_category"
   ]
  },
  {
   "cell_type": "code",
   "execution_count": 115,
   "metadata": {},
   "outputs": [
    {
     "name": "stdout",
     "output_type": "stream",
     "text": [
      "accuracy:82.225%, tims:1.448s\n"
     ]
    }
   ],
   "source": [
    "df_1 = pd.concat([data_train, site_domain, site_category], axis=1)\n",
    "df_1.drop(['site_domain', 'site_category'], axis=1, inplace=True)\n",
    "train_df = df_1.filter(regex='click|site_domain_.*|hour|site_category_.*|C.*|banner_pos')\n",
    "train_np = train_df.values\n",
    "acc, t = train_cv(train_np)\n",
    "print('accuracy:{:.3f}%, tims:{:.3f}s'.format(acc*100,t))"
   ]
  },
  {
   "cell_type": "markdown",
   "metadata": {},
   "source": [
    "看到结果还是没有什么太大的变化，通过之前观察数据，部分特征的量纲之间差距很大，接下来进行特征数据标准化，来看一下效果。\n",
    "## 标准化\n",
    "- StandardScaler() → 均值为0，方差为1\n",
    "- MinMaxScaler() → [0, 1]\n",
    "- MaxAbsScaler() → [-1, 1]"
   ]
  },
  {
   "cell_type": "code",
   "execution_count": 116,
   "metadata": {},
   "outputs": [
    {
     "name": "stdout",
     "output_type": "stream",
     "text": [
      "MinMaxScaler :\n",
      "accuracy:82.178%, tims:2.935s\n",
      "StandardScaler() :\n",
      "accuracy:82.142%, tims:2.540s\n",
      "MaxAbsScaler :\n",
      "accuracy:82.166%, tims:2.866s\n"
     ]
    }
   ],
   "source": [
    "from sklearn.preprocessing import StandardScaler,MinMaxScaler,MaxAbsScaler\n",
    "import warnings\n",
    "warnings.filterwarnings('ignore')\n",
    "\n",
    "scalers = [MinMaxScaler(),\n",
    "         StandardScaler(),\n",
    "         MaxAbsScaler()]\n",
    "names = ['MinMaxScaler','StandardScaler()','MaxAbsScaler']\n",
    "for name, scaler in zip(names,scalers):\n",
    "    print(name,':')\n",
    "    temp = scaler.fit_transform(df_1.filter(regex='hour|C.*|banner_pos|device_type|device_conn_type'))\n",
    "    temp = pd.DataFrame(temp, \n",
    "                        columns=['hour_s','C1_s','C14_s','C15_s','C16_s','C17_s','C18_s',\n",
    "                                 'C19_s','C20_s','C21_s','banner_pos_s','device_type_s','device_conn_type_s'])\n",
    "    df_1_s = pd.concat([data_train['click'], temp, site_domain, site_category], axis=1)\n",
    "    acc, t = train_cv(df_1_s.values)\n",
    "    print('accuracy:{:.3f}%, tims:{:.3f}s'.format(acc*100,t))"
   ]
  },
  {
   "cell_type": "markdown",
   "metadata": {},
   "source": [
    "通过效果看出，对于该问题使用MinMaxScaler()效果比较好，也是因为其与特征都进行离散化（[0, 1]）,这样量纲统一了。"
   ]
  },
  {
   "cell_type": "markdown",
   "metadata": {},
   "source": [
    "接下来尝试再增加特征：\n",
    "由于ip信息大部分均为不同的数据，做为特征时对结果会产生负影响。因此排除ip类的特征，选取其与特征"
   ]
  },
  {
   "cell_type": "code",
   "execution_count": 117,
   "metadata": {},
   "outputs": [
    {
     "name": "stdout",
     "output_type": "stream",
     "text": [
      "accuracy:82.154%, tims:7.976s\n"
     ]
    }
   ],
   "source": [
    "scaler = MinMaxScaler()\n",
    "temp = scaler.fit_transform(df_1.filter(regex='hour|C.*|banner_pos|device_type|device_conn_type'))\n",
    "trian_data_scalered = pd.DataFrame(temp, \n",
    "                    columns=['hour_s','C1_s','C14_s','C15_s','C16_s','C17_s','C18_s',\n",
    "                            'C19_s','C20_s','C21_s','banner_pos_s','device_type_s','device_conn_type_s'])\n",
    "selected_feature_df = pd.concat([data_train['click'], trian_data_scalered,site_domain,site_category,\n",
    "                                 app_domain,app_category,device_model], axis=1)\n",
    "acc, t = train_cv(selected_feature_df.values)\n",
    "print('accuracy:{:.3f}%, tims:{:.3f}s'.format(acc*100,t))"
   ]
  },
  {
   "cell_type": "markdown",
   "metadata": {},
   "source": [
    "- 在尝试减少特征：删去domain类特征"
   ]
  },
  {
   "cell_type": "code",
   "execution_count": 126,
   "metadata": {},
   "outputs": [
    {
     "name": "stdout",
     "output_type": "stream",
     "text": [
      "accuracy:82.059%, tims:1.255s\n"
     ]
    }
   ],
   "source": [
    "scaler = MinMaxScaler()\n",
    "temp = scaler.fit_transform(df_1.filter(regex='hour|C.*|banner_pos|device_type|device_conn_type'))\n",
    "trian_data_scalered = pd.DataFrame(temp, \n",
    "                    columns=['hour_s','C1_s','C14_s','C15_s','C16_s','C17_s','C18_s',\n",
    "                            'C19_s','C20_s','C21_s','banner_pos_s','device_type_s','device_conn_type_s'])\n",
    "selected_feature_df = pd.concat([data_train['click'], trian_data_scalered,site_category,\n",
    "                                 app_category,device_model], axis=1)\n",
    "acc, t = train_cv(selected_feature_df.values)\n",
    "print('accuracy:{:.3f}%, tims:{:.3f}s'.format(acc*100,t))"
   ]
  },
  {
   "cell_type": "markdown",
   "metadata": {},
   "source": [
    "- 选取site类特征以及其他特征，不选取app和device类特征"
   ]
  },
  {
   "cell_type": "code",
   "execution_count": 127,
   "metadata": {},
   "outputs": [
    {
     "name": "stdout",
     "output_type": "stream",
     "text": [
      "accuracy:82.130%, tims:0.973s\n"
     ]
    }
   ],
   "source": [
    "scaler = MinMaxScaler()\n",
    "temp = scaler.fit_transform(df_1.filter(regex='hour|C.*|banner_pos'))\n",
    "trian_data_scalered = pd.DataFrame(temp, \n",
    "                    columns=['hour_s','C1_s','C14_s','C15_s','C16_s','C17_s','C18_s',\n",
    "                            'C19_s','C20_s','C21_s','banner_pos_s'])\n",
    "selected_feature_df = pd.concat([data_train['click'], trian_data_scalered,site_id, site_domain,site_category], axis=1)\n",
    "acc, t = train_cv(selected_feature_df.values)\n",
    "print('accuracy:{:.3f}%, tims:{:.3f}s'.format(acc*100,t))"
   ]
  },
  {
   "cell_type": "markdown",
   "metadata": {},
   "source": [
    "- 选取app类特征以及其他特征，不选取site和device类特征"
   ]
  },
  {
   "cell_type": "code",
   "execution_count": 128,
   "metadata": {},
   "outputs": [
    {
     "name": "stdout",
     "output_type": "stream",
     "text": [
      "accuracy:82.178%, tims:0.546s\n"
     ]
    }
   ],
   "source": [
    "scaler = MinMaxScaler()\n",
    "temp = scaler.fit_transform(df_1.filter(regex='hour|C.*|banner_pos'))\n",
    "trian_data_scalered = pd.DataFrame(temp, \n",
    "                    columns=['hour_s','C1_s','C14_s','C15_s','C16_s','C17_s','C18_s',\n",
    "                            'C19_s','C20_s','C21_s','banner_pos_s'])\n",
    "selected_feature_df = pd.concat([data_train['click'], trian_data_scalered,app_id, app_domain, app_category], axis=1)\n",
    "acc, t = train_cv(selected_feature_df.values)\n",
    "print('accuracy:{:.3f}%, tims:{:.3f}s'.format(acc*100,t))"
   ]
  },
  {
   "cell_type": "markdown",
   "metadata": {},
   "source": [
    "- 选取device类特征以及其他特征，不选取app和site类特征"
   ]
  },
  {
   "cell_type": "code",
   "execution_count": 129,
   "metadata": {},
   "outputs": [
    {
     "name": "stdout",
     "output_type": "stream",
     "text": [
      "accuracy:82.012%, tims:8.948s\n"
     ]
    }
   ],
   "source": [
    "scaler = MinMaxScaler()\n",
    "temp = scaler.fit_transform(df_1.filter(regex='hour|C.*|banner_pos|device_type|device_conn_type'))\n",
    "trian_data_scalered = pd.DataFrame(temp, \n",
    "                    columns=['hour_s','C1_s','C14_s','C15_s','C16_s','C17_s','C18_s',\n",
    "                            'C19_s','C20_s','C21_s','banner_pos_s','device_type_s','device_conn_type_s'])\n",
    "selected_feature_df = pd.concat([data_train['click'], trian_data_scalered,device_id, device_ip, device_model], axis=1)\n",
    "acc, t = train_cv(selected_feature_df.values)\n",
    "print('accuracy:{:.3f}%, tims:{:.3f}s'.format(acc*100,t))"
   ]
  },
  {
   "cell_type": "markdown",
   "metadata": {},
   "source": [
    ">通过特征选择，准确率提升的提升并不是很大，因此尝试通过对逻辑回归模型调参"
   ]
  },
  {
   "cell_type": "markdown",
   "metadata": {},
   "source": [
    "## 模型调参\n"
   ]
  },
  {
   "cell_type": "code",
   "execution_count": 151,
   "metadata": {},
   "outputs": [
    {
     "name": "stdout",
     "output_type": "stream",
     "text": [
      "Fitting 5 folds for each of 28 candidates, totalling 140 fits\n"
     ]
    },
    {
     "name": "stderr",
     "output_type": "stream",
     "text": [
      "[Parallel(n_jobs=8)]: Using backend LokyBackend with 8 concurrent workers.\n",
      "[Parallel(n_jobs=8)]: Done  34 tasks      | elapsed:   43.2s\n",
      "[Parallel(n_jobs=8)]: Done 140 out of 140 | elapsed:  6.2min finished\n"
     ]
    },
    {
     "data": {
      "text/plain": [
       "GridSearchCV(cv=5, error_score=nan,\n",
       "             estimator=LogisticRegression(C=1.0, class_weight=None, dual=False,\n",
       "                                          fit_intercept=True,\n",
       "                                          intercept_scaling=1, l1_ratio=None,\n",
       "                                          max_iter=100, multi_class='auto',\n",
       "                                          n_jobs=None, penalty='l2',\n",
       "                                          random_state=None, solver='lbfgs',\n",
       "                                          tol=0.0001, verbose=0,\n",
       "                                          warm_start=False),\n",
       "             iid='deprecated', n_jobs=8,\n",
       "             param_grid={'C': [0.01, 0.1, 0.5, 1, 5, 20, 50],\n",
       "                         'class_weight': ['balanced', 'None'],\n",
       "                         'penalty': ['l1'], 'solver': ['liblinear', 'saga']},\n",
       "             pre_dispatch='2*n_jobs', refit=True, return_train_score=False,\n",
       "             scoring='accuracy', verbose=1)"
      ]
     },
     "execution_count": 151,
     "metadata": {},
     "output_type": "execute_result"
    }
   ],
   "source": [
    "from sklearn.model_selection import GridSearchCV\n",
    "from sklearn import linear_model\n",
    "\n",
    "# set data\n",
    "scaler = MinMaxScaler()\n",
    "temp = scaler.fit_transform(df_1.filter(regex='hour|C.*|banner_pos|device_type|device_conn_type'))\n",
    "trian_data_scalered = pd.DataFrame(temp, \n",
    "                    columns=['hour_s','C1_s','C14_s','C15_s','C16_s','C17_s','C18_s',\n",
    "                            'C19_s','C20_s','C21_s','banner_pos_s','device_type_s','device_conn_type_s'])\n",
    "selected_feature_df = pd.concat([data_train['click'], trian_data_scalered,site_domain,site_category,\n",
    "                                 app_domain,app_category,device_model], axis=1)\n",
    "X = selected_feature_df.values[:,1:]\n",
    "y = selected_feature_df.values[:,0]\n",
    "# set train model\n",
    "clf = linear_model.LogisticRegression()\n",
    "param_LR = {'C':[0.01, 0.1, 0.5, 1, 5, 20, 50],\n",
    "           'penalty':['l1'],\n",
    "           'solver':['liblinear','saga'],\n",
    "           'class_weight':['balanced','None']}\n",
    "clf_gscv_l1 = GridSearchCV(clf, param_grid = param_LR, cv=5, scoring=\"accuracy\", n_jobs= 8, verbose = 1)\n",
    "clf_gscv_l1.fit(X, y)"
   ]
  },
  {
   "cell_type": "code",
   "execution_count": 152,
   "metadata": {},
   "outputs": [
    {
     "name": "stdout",
     "output_type": "stream",
     "text": [
      "LogisticRegression(C=0.1, class_weight='None', dual=False, fit_intercept=True,\n",
      "                   intercept_scaling=1, l1_ratio=None, max_iter=100,\n",
      "                   multi_class='auto', n_jobs=None, penalty='l1',\n",
      "                   random_state=None, solver='saga', tol=0.0001, verbose=0,\n",
      "                   warm_start=False)\n",
      "0.8223668639053254\n"
     ]
    }
   ],
   "source": [
    "print(clf_gscv_l1.best_estimator_)\n",
    "print(clf_gscv_l1.best_score_)"
   ]
  },
  {
   "cell_type": "code",
   "execution_count": 153,
   "metadata": {},
   "outputs": [
    {
     "name": "stdout",
     "output_type": "stream",
     "text": [
      "Fitting 5 folds for each of 42 candidates, totalling 210 fits\n"
     ]
    },
    {
     "name": "stderr",
     "output_type": "stream",
     "text": [
      "[Parallel(n_jobs=8)]: Using backend LokyBackend with 8 concurrent workers.\n",
      "[Parallel(n_jobs=8)]: Done  34 tasks      | elapsed:   27.4s\n",
      "[Parallel(n_jobs=8)]: Done 184 tasks      | elapsed:  4.8min\n",
      "[Parallel(n_jobs=8)]: Done 210 out of 210 | elapsed:  5.9min finished\n"
     ]
    },
    {
     "data": {
      "text/plain": [
       "GridSearchCV(cv=5, error_score=nan,\n",
       "             estimator=LogisticRegression(C=1.0, class_weight=None, dual=False,\n",
       "                                          fit_intercept=True,\n",
       "                                          intercept_scaling=1, l1_ratio=None,\n",
       "                                          max_iter=100, multi_class='auto',\n",
       "                                          n_jobs=None, penalty='l2',\n",
       "                                          random_state=None, solver='lbfgs',\n",
       "                                          tol=0.0001, verbose=0,\n",
       "                                          warm_start=False),\n",
       "             iid='deprecated', n_jobs=8,\n",
       "             param_grid={'C': [0.01, 0.1, 0.5, 1, 5, 20, 50],\n",
       "                         'class_weight': ['balanced', 'None'],\n",
       "                         'penalty': ['l2'],\n",
       "                         'solver': ['newton-cg', 'lbfgs', 'liblinear']},\n",
       "             pre_dispatch='2*n_jobs', refit=True, return_train_score=False,\n",
       "             scoring='accuracy', verbose=1)"
      ]
     },
     "execution_count": 153,
     "metadata": {},
     "output_type": "execute_result"
    }
   ],
   "source": [
    "clf = linear_model.LogisticRegression()\n",
    "param_LR = {'C':[0.01, 0.1, 0.5, 1, 5, 20, 50],\n",
    "           'penalty':['l2'],\n",
    "           'solver':['newton-cg','lbfgs','liblinear'],\n",
    "           'class_weight':['balanced','None']}\n",
    "clf_gscv_l2 = GridSearchCV(clf, param_grid = param_LR, cv=5, scoring=\"accuracy\", n_jobs= 8, verbose = 1)\n",
    "clf_gscv_l2.fit(X, y) "
   ]
  },
  {
   "cell_type": "code",
   "execution_count": 154,
   "metadata": {},
   "outputs": [
    {
     "name": "stdout",
     "output_type": "stream",
     "text": [
      "LogisticRegression(C=0.01, class_weight='None', dual=False, fit_intercept=True,\n",
      "                   intercept_scaling=1, l1_ratio=None, max_iter=100,\n",
      "                   multi_class='auto', n_jobs=None, penalty='l2',\n",
      "                   random_state=None, solver='newton-cg', tol=0.0001, verbose=0,\n",
      "                   warm_start=False)\n",
      "0.8222485207100592\n"
     ]
    }
   ],
   "source": [
    "print(clf_gscv_l2.best_estimator_)\n",
    "print(clf_gscv_l2.best_score_)"
   ]
  },
  {
   "cell_type": "markdown",
   "metadata": {},
   "source": [
    "由于逻辑回归中L1和L2近适用于不同的优化算法（solver）,所以分开进行调参。因为数据的标签是不均衡的，所以在调参中增添了标签均衡，但由于开启标签均衡后会导致训练集准确率下降，所以这里最佳参数中class_weight=None。但为了预防过拟合的情况，还需将将参数class_weight='balanced'"
   ]
  }
 ],
 "metadata": {
  "hide_input": false,
  "kernelspec": {
   "display_name": "Python 3",
   "language": "python",
   "name": "python3"
  },
  "language_info": {
   "codemirror_mode": {
    "name": "ipython",
    "version": 3
   },
   "file_extension": ".py",
   "mimetype": "text/x-python",
   "name": "python",
   "nbconvert_exporter": "python",
   "pygments_lexer": "ipython3",
   "version": "3.7.0"
  },
  "toc": {
   "base_numbering": 1,
   "nav_menu": {},
   "number_sections": true,
   "sideBar": true,
   "skip_h1_title": false,
   "title_cell": "Table of Contents",
   "title_sidebar": "Contents",
   "toc_cell": false,
   "toc_position": {},
   "toc_section_display": true,
   "toc_window_display": false
  },
  "varInspector": {
   "cols": {
    "lenName": 16,
    "lenType": 16,
    "lenVar": 40
   },
   "kernels_config": {
    "python": {
     "delete_cmd_postfix": "",
     "delete_cmd_prefix": "del ",
     "library": "var_list.py",
     "varRefreshCmd": "print(var_dic_list())"
    },
    "r": {
     "delete_cmd_postfix": ") ",
     "delete_cmd_prefix": "rm(",
     "library": "var_list.r",
     "varRefreshCmd": "cat(var_dic_list()) "
    }
   },
   "types_to_exclude": [
    "module",
    "function",
    "builtin_function_or_method",
    "instance",
    "_Feature"
   ],
   "window_display": false
  }
 },
 "nbformat": 4,
 "nbformat_minor": 2
}
